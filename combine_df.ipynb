{
 "cells": [
  {
   "cell_type": "markdown",
   "id": "2e9506c8",
   "metadata": {},
   "source": [
    "# STM을 위한 전처리 후 미중 통합 데이터"
   ]
  },
  {
   "cell_type": "code",
   "execution_count": null,
   "id": "1e55aa8a",
   "metadata": {},
   "outputs": [
    {
     "name": "stdout",
     "output_type": "stream",
     "text": [
      "Collecting pandas\n",
      "  Downloading pandas-2.2.3-cp312-cp312-win_amd64.whl.metadata (19 kB)\n",
      "Collecting numpy>=1.26.0 (from pandas)\n",
      "  Downloading numpy-2.2.4-cp312-cp312-win_amd64.whl.metadata (60 kB)\n",
      "Requirement already satisfied: python-dateutil>=2.8.2 in c:\\users\\user\\onedrive\\바탕 화면\\ai-hegemony\\hegemony\\lib\\site-packages (from pandas) (2.9.0.post0)\n",
      "Collecting pytz>=2020.1 (from pandas)\n",
      "  Using cached pytz-2025.2-py2.py3-none-any.whl.metadata (22 kB)\n",
      "Collecting tzdata>=2022.7 (from pandas)\n",
      "  Using cached tzdata-2025.2-py2.py3-none-any.whl.metadata (1.4 kB)\n",
      "Requirement already satisfied: six>=1.5 in c:\\users\\user\\onedrive\\바탕 화면\\ai-hegemony\\hegemony\\lib\\site-packages (from python-dateutil>=2.8.2->pandas) (1.17.0)\n",
      "Downloading pandas-2.2.3-cp312-cp312-win_amd64.whl (11.5 MB)\n",
      "   ---------------------------------------- 0.0/11.5 MB ? eta -:--:--\n",
      "   ---------------------------------------- 11.5/11.5 MB 60.1 MB/s eta 0:00:00\n",
      "Downloading numpy-2.2.4-cp312-cp312-win_amd64.whl (12.6 MB)\n",
      "   ---------------------------------------- 0.0/12.6 MB ? eta -:--:--\n",
      "   ---------------------------------------- 12.6/12.6 MB 87.8 MB/s eta 0:00:00\n",
      "Using cached pytz-2025.2-py2.py3-none-any.whl (509 kB)\n",
      "Using cached tzdata-2025.2-py2.py3-none-any.whl (347 kB)\n",
      "Installing collected packages: pytz, tzdata, numpy, pandas\n",
      "Successfully installed numpy-2.2.4 pandas-2.2.3 pytz-2025.2 tzdata-2025.2\n"
     ]
    },
    {
     "name": "stderr",
     "output_type": "stream",
     "text": [
      "\n",
      "[notice] A new release of pip is available: 24.2 -> 25.0.1\n",
      "[notice] To update, run: python.exe -m pip install --upgrade pip\n"
     ]
    },
    {
     "name": "stdout",
     "output_type": "stream",
     "text": [
      "Collecting openpyxl\n",
      "  Using cached openpyxl-3.1.5-py2.py3-none-any.whl.metadata (2.5 kB)\n",
      "Collecting et-xmlfile (from openpyxl)\n",
      "  Using cached et_xmlfile-2.0.0-py3-none-any.whl.metadata (2.7 kB)\n",
      "Using cached openpyxl-3.1.5-py2.py3-none-any.whl (250 kB)\n",
      "Using cached et_xmlfile-2.0.0-py3-none-any.whl (18 kB)\n",
      "Installing collected packages: et-xmlfile, openpyxl\n",
      "Successfully installed et-xmlfile-2.0.0 openpyxl-3.1.5\n"
     ]
    },
    {
     "name": "stderr",
     "output_type": "stream",
     "text": [
      "\n",
      "[notice] A new release of pip is available: 24.2 -> 25.0.1\n",
      "[notice] To update, run: python.exe -m pip install --upgrade pip\n"
     ]
    }
   ],
   "source": [
    "# !pip install pandas\n",
    "# !pip install openpyxl"
   ]
  },
  {
   "cell_type": "code",
   "execution_count": 9,
   "id": "ad2506e5",
   "metadata": {},
   "outputs": [
    {
     "data": {
      "text/html": [
       "<div>\n",
       "<style scoped>\n",
       "    .dataframe tbody tr th:only-of-type {\n",
       "        vertical-align: middle;\n",
       "    }\n",
       "\n",
       "    .dataframe tbody tr th {\n",
       "        vertical-align: top;\n",
       "    }\n",
       "\n",
       "    .dataframe thead th {\n",
       "        text-align: right;\n",
       "    }\n",
       "</style>\n",
       "<table border=\"1\" class=\"dataframe\">\n",
       "  <thead>\n",
       "    <tr style=\"text-align: right;\">\n",
       "      <th></th>\n",
       "      <th>Publication Number</th>\n",
       "      <th>Publication Date</th>\n",
       "      <th>Title</th>\n",
       "      <th>Abstract</th>\n",
       "      <th>Tokenized_Abstract</th>\n",
       "      <th>Preprocessed_Abstract</th>\n",
       "    </tr>\n",
       "  </thead>\n",
       "  <tbody>\n",
       "    <tr>\n",
       "      <th>0</th>\n",
       "      <td>US11849908B2</td>\n",
       "      <td>2023-12-26</td>\n",
       "      <td>Method of providing intelligent voice recognit...</td>\n",
       "      <td>A method of providing an intelligent voice rec...</td>\n",
       "      <td>['method', 'provide', 'intelligent', 'voice', ...</td>\n",
       "      <td>method provide intelligent voice recognition m...</td>\n",
       "    </tr>\n",
       "    <tr>\n",
       "      <th>1</th>\n",
       "      <td>US11850053B2</td>\n",
       "      <td>2023-12-26</td>\n",
       "      <td>System for measuring heart rate</td>\n",
       "      <td>A method of computing a heart rate value compe...</td>\n",
       "      <td>['method', 'compute', 'heart', 'rate', 'value'...</td>\n",
       "      <td>method compute heart rate value compensate noi...</td>\n",
       "    </tr>\n",
       "    <tr>\n",
       "      <th>2</th>\n",
       "      <td>US11850090B2</td>\n",
       "      <td>2023-12-26</td>\n",
       "      <td>Guided lung coverage and automated detection u...</td>\n",
       "      <td>Systems and methods for guided lung coverage a...</td>\n",
       "      <td>['system', 'method', 'guide', 'lung', 'coverag...</td>\n",
       "      <td>system method guide lung coverage automate det...</td>\n",
       "    </tr>\n",
       "    <tr>\n",
       "      <th>3</th>\n",
       "      <td>US11850490B1</td>\n",
       "      <td>2023-12-26</td>\n",
       "      <td>Method and system for artificial intelligence ...</td>\n",
       "      <td>An artificial intelligence (A.I.) club fitting...</td>\n",
       "      <td>['artificial', 'intelligence', 'club', 'fittin...</td>\n",
       "      <td>artificial intelligence club fitting tool disc...</td>\n",
       "    </tr>\n",
       "    <tr>\n",
       "      <th>4</th>\n",
       "      <td>US11850968B2</td>\n",
       "      <td>2023-12-26</td>\n",
       "      <td>Electrified vehicle control based on validated...</td>\n",
       "      <td>A vehicle includes a traction battery and a ce...</td>\n",
       "      <td>['vehicle', 'include', 'traction', 'battery', ...</td>\n",
       "      <td>vehicle include traction battery cell monitor ...</td>\n",
       "    </tr>\n",
       "  </tbody>\n",
       "</table>\n",
       "</div>"
      ],
      "text/plain": [
       "  Publication Number Publication Date  \\\n",
       "0       US11849908B2       2023-12-26   \n",
       "1       US11850053B2       2023-12-26   \n",
       "2       US11850090B2       2023-12-26   \n",
       "3       US11850490B1       2023-12-26   \n",
       "4       US11850968B2       2023-12-26   \n",
       "\n",
       "                                               Title  \\\n",
       "0  Method of providing intelligent voice recognit...   \n",
       "1                    System for measuring heart rate   \n",
       "2  Guided lung coverage and automated detection u...   \n",
       "3  Method and system for artificial intelligence ...   \n",
       "4  Electrified vehicle control based on validated...   \n",
       "\n",
       "                                            Abstract  \\\n",
       "0  A method of providing an intelligent voice rec...   \n",
       "1  A method of computing a heart rate value compe...   \n",
       "2  Systems and methods for guided lung coverage a...   \n",
       "3  An artificial intelligence (A.I.) club fitting...   \n",
       "4  A vehicle includes a traction battery and a ce...   \n",
       "\n",
       "                                  Tokenized_Abstract  \\\n",
       "0  ['method', 'provide', 'intelligent', 'voice', ...   \n",
       "1  ['method', 'compute', 'heart', 'rate', 'value'...   \n",
       "2  ['system', 'method', 'guide', 'lung', 'coverag...   \n",
       "3  ['artificial', 'intelligence', 'club', 'fittin...   \n",
       "4  ['vehicle', 'include', 'traction', 'battery', ...   \n",
       "\n",
       "                               Preprocessed_Abstract  \n",
       "0  method provide intelligent voice recognition m...  \n",
       "1  method compute heart rate value compensate noi...  \n",
       "2  system method guide lung coverage automate det...  \n",
       "3  artificial intelligence club fitting tool disc...  \n",
       "4  vehicle include traction battery cell monitor ...  "
      ]
     },
     "execution_count": 9,
     "metadata": {},
     "output_type": "execute_result"
    }
   ],
   "source": [
    "import pandas as pd\n",
    "\n",
    "# 파일 경로 리스트\n",
    "file_paths = [\n",
    "    'usa_동사형용사부사_포함.xlsx',\n",
    "    'china_동사형용사부사_포함.xlsx'\n",
    "] \n",
    "\n",
    "# 모든 파일을 읽어서 하나의 데이터프레임으로 합치기\n",
    "data_frames = [pd.read_excel(file) for file in file_paths]\n",
    "combined_df = pd.concat(data_frames, ignore_index=True)\n",
    "\n",
    "# 결과 확인\n",
    "combined_df.head()\n",
    "\n",
    "# 필요시 데이터프레임 저장\n",
    "# combined_df.to_excel('combined_data.xlsx', index=False)"
   ]
  },
  {
   "cell_type": "code",
   "execution_count": 10,
   "id": "3c137a57",
   "metadata": {},
   "outputs": [
    {
     "name": "stdout",
     "output_type": "stream",
     "text": [
      "<class 'pandas.core.frame.DataFrame'>\n",
      "RangeIndex: 50778 entries, 0 to 50777\n",
      "Data columns (total 6 columns):\n",
      " #   Column                 Non-Null Count  Dtype         \n",
      "---  ------                 --------------  -----         \n",
      " 0   Publication Number     50778 non-null  object        \n",
      " 1   Publication Date       50778 non-null  datetime64[ns]\n",
      " 2   Title                  50778 non-null  object        \n",
      " 3   Abstract               50769 non-null  object        \n",
      " 4   Tokenized_Abstract     50778 non-null  object        \n",
      " 5   Preprocessed_Abstract  50769 non-null  object        \n",
      "dtypes: datetime64[ns](1), object(5)\n",
      "memory usage: 2.3+ MB\n"
     ]
    }
   ],
   "source": [
    "combined_df.info()"
   ]
  },
  {
   "cell_type": "code",
   "execution_count": 11,
   "id": "c44e1a2d",
   "metadata": {},
   "outputs": [
    {
     "name": "stdout",
     "output_type": "stream",
     "text": [
      "<class 'pandas.core.frame.DataFrame'>\n",
      "RangeIndex: 50769 entries, 0 to 50768\n",
      "Data columns (total 6 columns):\n",
      " #   Column                 Non-Null Count  Dtype         \n",
      "---  ------                 --------------  -----         \n",
      " 0   Publication Number     50769 non-null  object        \n",
      " 1   Publication Date       50769 non-null  datetime64[ns]\n",
      " 2   Title                  50769 non-null  object        \n",
      " 3   Abstract               50769 non-null  object        \n",
      " 4   Tokenized_Abstract     50769 non-null  object        \n",
      " 5   Preprocessed_Abstract  50769 non-null  object        \n",
      "dtypes: datetime64[ns](1), object(5)\n",
      "memory usage: 2.3+ MB\n"
     ]
    }
   ],
   "source": [
    "# 1. 'Abstract' 열의 결측값(NaN) 제거\n",
    "combined_df = combined_df.dropna(subset=['Abstract']).reset_index(drop=True)\n",
    "\n",
    "# 결과 확인\n",
    "combined_df.info()"
   ]
  },
  {
   "cell_type": "code",
   "execution_count": 12,
   "id": "6d11d962",
   "metadata": {},
   "outputs": [
    {
     "data": {
      "text/html": [
       "<div>\n",
       "<style scoped>\n",
       "    .dataframe tbody tr th:only-of-type {\n",
       "        vertical-align: middle;\n",
       "    }\n",
       "\n",
       "    .dataframe tbody tr th {\n",
       "        vertical-align: top;\n",
       "    }\n",
       "\n",
       "    .dataframe thead th {\n",
       "        text-align: right;\n",
       "    }\n",
       "</style>\n",
       "<table border=\"1\" class=\"dataframe\">\n",
       "  <thead>\n",
       "    <tr style=\"text-align: right;\">\n",
       "      <th></th>\n",
       "      <th>Publication Number</th>\n",
       "      <th>Publication Date</th>\n",
       "      <th>Title</th>\n",
       "      <th>Preprocessed_Abstract</th>\n",
       "    </tr>\n",
       "  </thead>\n",
       "  <tbody>\n",
       "    <tr>\n",
       "      <th>0</th>\n",
       "      <td>US11849908B2</td>\n",
       "      <td>2023-12-26</td>\n",
       "      <td>Method of providing intelligent voice recognit...</td>\n",
       "      <td>method provide intelligent voice recognition m...</td>\n",
       "    </tr>\n",
       "    <tr>\n",
       "      <th>1</th>\n",
       "      <td>US11850053B2</td>\n",
       "      <td>2023-12-26</td>\n",
       "      <td>System for measuring heart rate</td>\n",
       "      <td>method compute heart rate value compensate noi...</td>\n",
       "    </tr>\n",
       "    <tr>\n",
       "      <th>2</th>\n",
       "      <td>US11850090B2</td>\n",
       "      <td>2023-12-26</td>\n",
       "      <td>Guided lung coverage and automated detection u...</td>\n",
       "      <td>system method guide lung coverage automate det...</td>\n",
       "    </tr>\n",
       "    <tr>\n",
       "      <th>3</th>\n",
       "      <td>US11850490B1</td>\n",
       "      <td>2023-12-26</td>\n",
       "      <td>Method and system for artificial intelligence ...</td>\n",
       "      <td>artificial intelligence club fitting tool disc...</td>\n",
       "    </tr>\n",
       "    <tr>\n",
       "      <th>4</th>\n",
       "      <td>US11850968B2</td>\n",
       "      <td>2023-12-26</td>\n",
       "      <td>Electrified vehicle control based on validated...</td>\n",
       "      <td>vehicle include traction battery cell monitor ...</td>\n",
       "    </tr>\n",
       "  </tbody>\n",
       "</table>\n",
       "</div>"
      ],
      "text/plain": [
       "  Publication Number Publication Date  \\\n",
       "0       US11849908B2       2023-12-26   \n",
       "1       US11850053B2       2023-12-26   \n",
       "2       US11850090B2       2023-12-26   \n",
       "3       US11850490B1       2023-12-26   \n",
       "4       US11850968B2       2023-12-26   \n",
       "\n",
       "                                               Title  \\\n",
       "0  Method of providing intelligent voice recognit...   \n",
       "1                    System for measuring heart rate   \n",
       "2  Guided lung coverage and automated detection u...   \n",
       "3  Method and system for artificial intelligence ...   \n",
       "4  Electrified vehicle control based on validated...   \n",
       "\n",
       "                               Preprocessed_Abstract  \n",
       "0  method provide intelligent voice recognition m...  \n",
       "1  method compute heart rate value compensate noi...  \n",
       "2  system method guide lung coverage automate det...  \n",
       "3  artificial intelligence club fitting tool disc...  \n",
       "4  vehicle include traction battery cell monitor ...  "
      ]
     },
     "execution_count": 12,
     "metadata": {},
     "output_type": "execute_result"
    }
   ],
   "source": [
    "# 필요한 열만 선택\n",
    "combined_df = combined_df[['Publication Number', 'Publication Date', 'Title', 'Preprocessed_Abstract']]\n",
    "\n",
    "# 결과 확인\n",
    "combined_df.head()"
   ]
  },
  {
   "cell_type": "code",
   "execution_count": 13,
   "id": "2db09073",
   "metadata": {},
   "outputs": [],
   "source": [
    "combined_df.to_excel('combined_v&adj&adv_cleaned.xlsx', index=False)"
   ]
  },
  {
   "cell_type": "markdown",
   "id": "7ea7dafb",
   "metadata": {},
   "source": [
    "# Bertopic을 위한 전처리 없이 미중 통합 데이터"
   ]
  },
  {
   "cell_type": "code",
   "execution_count": 14,
   "id": "f557b6a6",
   "metadata": {},
   "outputs": [
    {
     "data": {
      "text/html": [
       "<div>\n",
       "<style scoped>\n",
       "    .dataframe tbody tr th:only-of-type {\n",
       "        vertical-align: middle;\n",
       "    }\n",
       "\n",
       "    .dataframe tbody tr th {\n",
       "        vertical-align: top;\n",
       "    }\n",
       "\n",
       "    .dataframe thead th {\n",
       "        text-align: right;\n",
       "    }\n",
       "</style>\n",
       "<table border=\"1\" class=\"dataframe\">\n",
       "  <thead>\n",
       "    <tr style=\"text-align: right;\">\n",
       "      <th></th>\n",
       "      <th>Publication Number</th>\n",
       "      <th>Publication Date</th>\n",
       "      <th>Title</th>\n",
       "      <th>Abstract</th>\n",
       "    </tr>\n",
       "  </thead>\n",
       "  <tbody>\n",
       "    <tr>\n",
       "      <th>0</th>\n",
       "      <td>CN109783692B</td>\n",
       "      <td>2021-12-31</td>\n",
       "      <td>Target signature comparison method and apparat...</td>\n",
       "      <td>The invention relates to a fast data and slow ...</td>\n",
       "    </tr>\n",
       "    <tr>\n",
       "      <th>1</th>\n",
       "      <td>CN112640417B</td>\n",
       "      <td>2021-12-31</td>\n",
       "      <td>Matching relationship determination method and...</td>\n",
       "      <td>A matching relationship determination method, ...</td>\n",
       "    </tr>\n",
       "    <tr>\n",
       "      <th>2</th>\n",
       "      <td>CN113380261B</td>\n",
       "      <td>2021-12-31</td>\n",
       "      <td>Artificial intelligence speech acquisition pro...</td>\n",
       "      <td>The invention discloses an artificial intellig...</td>\n",
       "    </tr>\n",
       "    <tr>\n",
       "      <th>3</th>\n",
       "      <td>CN113570172B</td>\n",
       "      <td>2021-12-31</td>\n",
       "      <td>A method, device and system recommended for ta...</td>\n",
       "      <td>The invention discloses a taxi no-load cruise ...</td>\n",
       "    </tr>\n",
       "    <tr>\n",
       "      <th>4</th>\n",
       "      <td>CN113590854B</td>\n",
       "      <td>2021-12-31</td>\n",
       "      <td>A data processing method, device, and computer...</td>\n",
       "      <td>The embodiment of the invention discloses a da...</td>\n",
       "    </tr>\n",
       "  </tbody>\n",
       "</table>\n",
       "</div>"
      ],
      "text/plain": [
       "  Publication Number Publication Date  \\\n",
       "0       CN109783692B       2021-12-31   \n",
       "1       CN112640417B       2021-12-31   \n",
       "2       CN113380261B       2021-12-31   \n",
       "3       CN113570172B       2021-12-31   \n",
       "4       CN113590854B       2021-12-31   \n",
       "\n",
       "                                               Title  \\\n",
       "0  Target signature comparison method and apparat...   \n",
       "1  Matching relationship determination method and...   \n",
       "2  Artificial intelligence speech acquisition pro...   \n",
       "3  A method, device and system recommended for ta...   \n",
       "4  A data processing method, device, and computer...   \n",
       "\n",
       "                                            Abstract  \n",
       "0  The invention relates to a fast data and slow ...  \n",
       "1  A matching relationship determination method, ...  \n",
       "2  The invention discloses an artificial intellig...  \n",
       "3  The invention discloses a taxi no-load cruise ...  \n",
       "4  The embodiment of the invention discloses a da...  "
      ]
     },
     "execution_count": 14,
     "metadata": {},
     "output_type": "execute_result"
    }
   ],
   "source": [
    "import pandas as pd\n",
    "\n",
    "# 파일 경로 리스트\n",
    "file_paths = [\n",
    "    'CN/AI-CN-2000_0101-2021_1231-7727.xlsx',\n",
    "    'CN/AI-CN-2022_0101-2023_0630-8805.xlsx', \n",
    "    'CN/AI-CN-2023_0701-2024_0430-9163.xlsx',\n",
    "    'CN/AI-CN-2024_0501-2025_0228-9310.xlsx',\n",
    "    'CN/AI-CN-2025_0301-2025_0409-1644.xlsx',\n",
    "    'US/AI-US-2000_0101-2023_1231-9775.xlsx',\n",
    "    'US/AI-US-2024_0101-2025_0409-4354.xlsx'\n",
    "] \n",
    "\n",
    "# 모든 파일을 읽어서 하나의 데이터프레임으로 합치기\n",
    "data_frames = [pd.read_excel(file) for file in file_paths]\n",
    "combined_df = pd.concat(data_frames, ignore_index=True)\n",
    "\n",
    "# 'Abstract' 열의 결측값(NaN) 제거\n",
    "combined_df = combined_df.dropna(subset=['Abstract']).reset_index(drop=True)\n",
    "\n",
    "# 필요한 열만 선택\n",
    "combined_df = combined_df[['Publication Number', 'Publication Date', 'Title', 'Abstract']]\n",
    "\n",
    "# 결과 확인\n",
    "combined_df.head()"
   ]
  },
  {
   "cell_type": "code",
   "execution_count": 15,
   "id": "aa556d91",
   "metadata": {},
   "outputs": [
    {
     "name": "stdout",
     "output_type": "stream",
     "text": [
      "<class 'pandas.core.frame.DataFrame'>\n",
      "RangeIndex: 50769 entries, 0 to 50768\n",
      "Data columns (total 4 columns):\n",
      " #   Column              Non-Null Count  Dtype         \n",
      "---  ------              --------------  -----         \n",
      " 0   Publication Number  50769 non-null  object        \n",
      " 1   Publication Date    50769 non-null  datetime64[ns]\n",
      " 2   Title               50769 non-null  object        \n",
      " 3   Abstract            50769 non-null  object        \n",
      "dtypes: datetime64[ns](1), object(3)\n",
      "memory usage: 1.5+ MB\n"
     ]
    }
   ],
   "source": [
    "combined_df.info()"
   ]
  },
  {
   "cell_type": "code",
   "execution_count": 16,
   "id": "9d9b0856",
   "metadata": {},
   "outputs": [],
   "source": [
    "combined_df.to_excel('combined_abstract.xlsx', index=False)"
   ]
  },
  {
   "cell_type": "code",
   "execution_count": 17,
   "id": "6396dfc7",
   "metadata": {},
   "outputs": [
    {
     "name": "stdout",
     "output_type": "stream",
     "text": [
      "Abstract DataFrame Rows: 50769\n",
      "Nouns DataFrame Rows: 50769\n",
      "Verbs/Adjectives/Adverbs DataFrame Rows: 50769\n",
      "All DataFrames have the same number of rows.\n"
     ]
    }
   ],
   "source": [
    "# 세 개의 파일을 읽어서 데이터프레임 생성\n",
    "df_abstract = pd.read_excel('combined_abstract.xlsx')\n",
    "df_nouns = pd.read_excel('combined_nouns_cleaned.xlsx')\n",
    "df_v_adj_adv = pd.read_excel('combined_v&adj&adv_cleaned.xlsx')\n",
    "\n",
    "# 데이터 개수 확인\n",
    "print(f\"Abstract DataFrame Rows: {len(df_abstract)}\")\n",
    "print(f\"Nouns DataFrame Rows: {len(df_nouns)}\")\n",
    "print(f\"Verbs/Adjectives/Adverbs DataFrame Rows: {len(df_v_adj_adv)}\")\n",
    "\n",
    "# 데이터 개수가 같은지 확인\n",
    "if len(df_abstract) == len(df_nouns) == len(df_v_adj_adv):\n",
    "    print(\"All DataFrames have the same number of rows.\")\n",
    "else:\n",
    "    print(\"DataFrames have different numbers of rows.\")"
   ]
  },
  {
   "cell_type": "code",
   "execution_count": null,
   "id": "3b8fe25c",
   "metadata": {},
   "outputs": [],
   "source": []
  }
 ],
 "metadata": {
  "kernelspec": {
   "display_name": "hegemony",
   "language": "python",
   "name": "python3"
  },
  "language_info": {
   "codemirror_mode": {
    "name": "ipython",
    "version": 3
   },
   "file_extension": ".py",
   "mimetype": "text/x-python",
   "name": "python",
   "nbconvert_exporter": "python",
   "pygments_lexer": "ipython3",
   "version": "3.12.7"
  }
 },
 "nbformat": 4,
 "nbformat_minor": 5
}
